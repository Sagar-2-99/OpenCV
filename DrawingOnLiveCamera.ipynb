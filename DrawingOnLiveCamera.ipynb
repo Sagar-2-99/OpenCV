{
 "cells": [
  {
   "cell_type": "code",
   "execution_count": 2,
   "id": "bebc188e-d0cd-42f4-b6ce-64271a73ddd7",
   "metadata": {},
   "outputs": [
    {
     "name": "stderr",
     "output_type": "stream",
     "text": [
      "[ WARN:0@4.430] global cap_gstreamer.cpp:1173 isPipelinePlaying OpenCV | GStreamer warning: GStreamer: pipeline have not been created\n",
      "2025-03-02 22:28:29.958 python[27307:839177] +[IMKClient subclass]: chose IMKClient_Modern\n",
      "2025-03-02 22:28:29.958 python[27307:839177] +[IMKInputSession subclass]: chose IMKInputSession_Modern\n"
     ]
    }
   ],
   "source": [
    "import cv2\n",
    "import numpy as np\n",
    "import matplotlib.pyplot as plt\n",
    "\n",
    "cap = cv2.VideoCapture(0)\n",
    "\n",
    "width = int(cap.get(cv2.CAP_PROP_FRAME_WIDTH))\n",
    "height = int(cap.get(cv2.CAP_PROP_FRAME_HEIGHT))\n",
    "\n",
    "#TOP LEFT CORNER\n",
    "x = width//2\n",
    "y = height//2 \n",
    "\n",
    "#width and height of Rectangle\n",
    "w = width//4\n",
    "h = height//4\n",
    "\n",
    "#BOTTOM RIGHT x+w, y+h\n",
    "while True:\n",
    "    ret, frame = cap.read()\n",
    "    cv2.rectangle(frame,(x,y), (x+w, y+h), color=(0,0,255), thickness=4)\n",
    "    cv2.imshow('frame', frame)\n",
    "\n",
    "    if cv2.waitKey(1) & 0xFF == ord('q'):\n",
    "        break\n",
    "\n",
    "cap.release()\n",
    "cv2.destroyAllWindows()"
   ]
  },
  {
   "cell_type": "code",
   "execution_count": null,
   "id": "0adea313-8c13-4dd1-bca8-364a43363507",
   "metadata": {},
   "outputs": [],
   "source": [
    "import cv2\n",
    "import numpy as np\n",
    "import matplotlib.pyplot as plt\n",
    "\n",
    "cap = cv2.VideoCapture(0)\n",
    "\n",
    "def draw_rectangle(event, x, y, flags, param):\n",
    "    global pt1, pt2, topLeft_clicked, botRight_clicked\n",
    "\n",
    "    if event == cv2.EVENT_LBUTTONDOWN:\n",
    "        #\n",
    "        if topLeft_clicked == True and botRight_clicked == True:\n",
    "            pt1=(0,0)\n",
    "            pt2=(0,0)\n",
    "            topLeft_clicked = False\n",
    "            botRight_clicked = False\n",
    "        elif topLeft_clicked == False:\n",
    "            pt1 = (x,y)\n",
    "            topLeft_clicked = True\n",
    "        elif botRight_clicked = False:\n",
    "            pt2 = (x,y)\n",
    "            botRight_clicked = True\n",
    "            \n",
    "\n",
    "pt1=(0,0)\n",
    "pt2=(0,0)\n",
    "topLeft_clicked = False\n",
    "botRight_clicked = False\n",
    "\n",
    "\n",
    "cv2.namedWindow('Test')\n",
    "cv2.setMouseCallback('Test', draw_rectangle)\n",
    "\n",
    "#TOP LEFT CORNER\n",
    "x = width//2\n",
    "y = height//2 \n",
    "\n",
    "#width and height of Rectangle\n",
    "w = width//4\n",
    "h = height//4\n",
    "\n",
    "#BOTTOM RIGHT x+w, y+h\n",
    "while True:\n",
    "    ret, frame = cap.read()\n",
    "    cv2.imshow('Test', frame)\n",
    "\n",
    "    if topLeft_clicked == True:\n",
    "        cv2.cicle(frame, center=pt1, radius=5, color=(0,0,255), thickness=-1)\n",
    "\n",
    "    if topLeft_clicked and botRight_clicked:\n",
    "        cv2.rectangle(frame, pt1, pt2, (0,0,255), 3)\n",
    "\n",
    "    if cv2.waitKey(1) & 0xFF == ord('q'):\n",
    "        break\n",
    "\n",
    "cap.release()\n",
    "cv2.destroyAllWindows()"
   ]
  }
 ],
 "metadata": {
  "kernelspec": {
   "display_name": "Python 3 (ipykernel)",
   "language": "python",
   "name": "python3"
  },
  "language_info": {
   "codemirror_mode": {
    "name": "ipython",
    "version": 3
   },
   "file_extension": ".py",
   "mimetype": "text/x-python",
   "name": "python",
   "nbconvert_exporter": "python",
   "pygments_lexer": "ipython3",
   "version": "3.12.9"
  }
 },
 "nbformat": 4,
 "nbformat_minor": 5
}

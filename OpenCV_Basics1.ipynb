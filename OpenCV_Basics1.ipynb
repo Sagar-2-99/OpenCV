{
 "cells": [
  {
   "cell_type": "code",
   "execution_count": 1,
   "id": "751dfa48-ca31-459e-9e3d-ea746ff1e564",
   "metadata": {},
   "outputs": [],
   "source": [
    "import numpy as nnp\n",
    "import matplotlib.pyplot as plt"
   ]
  },
  {
   "cell_type": "code",
   "execution_count": 2,
   "id": "5bc4e262-f435-4523-a083-02d5b8698363",
   "metadata": {},
   "outputs": [],
   "source": [
    "import cv2"
   ]
  },
  {
   "cell_type": "code",
   "execution_count": 3,
   "id": "7e1f93de-d659-440a-b2e2-0a66312a5f0a",
   "metadata": {},
   "outputs": [
    {
     "name": "stderr",
     "output_type": "stream",
     "text": [
      "[ WARN:0@12.979] global loadsave.cpp:241 findDecoder imread_(''): can't open/read file: check file path/integrity\n"
     ]
    }
   ],
   "source": [
    "img = cv2.imread('')"
   ]
  },
  {
   "cell_type": "code",
   "execution_count": null,
   "id": "be8c60ca-7a46-45ba-9b44-04b9faa62a48",
   "metadata": {},
   "outputs": [],
   "source": []
  }
 ],
 "metadata": {
  "kernelspec": {
   "display_name": "Python 3 (ipykernel)",
   "language": "python",
   "name": "python3"
  },
  "language_info": {
   "codemirror_mode": {
    "name": "ipython",
    "version": 3
   },
   "file_extension": ".py",
   "mimetype": "text/x-python",
   "name": "python",
   "nbconvert_exporter": "python",
   "pygments_lexer": "ipython3",
   "version": "3.12.9"
  }
 },
 "nbformat": 4,
 "nbformat_minor": 5
}
